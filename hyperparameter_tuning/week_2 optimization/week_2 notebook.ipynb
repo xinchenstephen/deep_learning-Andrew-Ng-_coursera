{
 "cells": [
  {
   "cell_type": "markdown",
   "metadata": {},
   "source": [
    "### optimal program ---- to let the procedure get the result more quickly\n",
    "\n",
    "### 1. mini-batch\n",
    "divide the m training example to several small size, especially when the training example is so large\n",
    "different effect to choose the mini-size\n",
    "<img src = \"mini-batch.PNG\" width = \"80%\">\n",
    "\n",
    "### 2. exponentially weight average\n",
    " \n",
    "$V_t = \\beta V_{t-1} + (1-\\beta)\\theta_t $  \n",
    "$V_t$ is the average temperature, $\\theta_t$ is today's temperature  \n",
    "if $\\beta = 0.1$ it will average $\\frac1\\beta = 10$ days temperature\n",
    "bias correction：  \n",
    "to correct the initial several points  \n",
    "picture:  \n",
    "<img src = \"bias correction.PNG\" width=\"50%\">  \n",
    "\n",
    "### 3. momentum  and RMSprop\n",
    "\n",
    "to decrease the oscillation of the vertical direction and speed up the other side\n",
    "\n",
    "<img src = \"speed up.PNG\" width = \"40%\">\n",
    "\n",
    "$\\beta = 0.9$ is always the practical value  \n",
    "\n",
    "**How does Adam work?** (combined RMSprop and momentum)\n",
    "1. It calculates an exponentially weighted average of past gradients, and stores it in variables $v$ (before bias correction) and $v^{corrected}$ (with bias correction). \n",
    "2. It calculates an exponentially weighted average of the squares of the past gradients, and  stores it in variables $s$ (before bias correction) and $s^{corrected}$ (with bias correction). \n",
    "3. It updates parameters in a direction based on combining information from \"1\" and \"2\".\n",
    "\n",
    "The update rule is, for $l = 1, ..., L$: \n",
    "\n",
    "$$\\begin{cases}\n",
    "v_{dW^{[l]}} = \\beta_1 v_{dW^{[l]}} + (1 - \\beta_1) \\frac{\\partial \\mathcal{J} }{ \\partial W^{[l]} } \\\\\n",
    "v^{corrected}_{dW^{[l]}} = \\frac{v_{dW^{[l]}}}{1 - (\\beta_1)^t} \\\\\n",
    "s_{dW^{[l]}} = \\beta_2 s_{dW^{[l]}} + (1 - \\beta_2) (\\frac{\\partial \\mathcal{J} }{\\partial W^{[l]} })^2 \\\\\n",
    "s^{corrected}_{dW^{[l]}} = \\frac{s_{dW^{[l]}}}{1 - (\\beta_2)^t} \\\\\n",
    "W^{[l]} = W^{[l]} - \\alpha \\frac{v^{corrected}_{dW^{[l]}}}{\\sqrt{s^{corrected}_{dW^{[l]}}} + \\varepsilon}\n",
    "\\end{cases}$$\n",
    "\n",
    "### 4. hyperparameters to tune:\n",
    "normal numbers  \n",
    "$\\alpha$ tuning  \n",
    "$\\beta_1$ 0.9  \n",
    "$\\beta_2$ 0.999  \n",
    "$\\epsilon$ 10^{-8}\n",
    "\n",
    "Adam: adaptive moment estimation"
   ]
  },
  {
   "cell_type": "code",
   "execution_count": null,
   "metadata": {},
   "outputs": [],
   "source": []
  }
 ],
 "metadata": {
  "kernelspec": {
   "display_name": "Python 3",
   "language": "python",
   "name": "python3"
  },
  "language_info": {
   "codemirror_mode": {
    "name": "ipython",
    "version": 3
   },
   "file_extension": ".py",
   "mimetype": "text/x-python",
   "name": "python",
   "nbconvert_exporter": "python",
   "pygments_lexer": "ipython3",
   "version": "3.7.3"
  }
 },
 "nbformat": 4,
 "nbformat_minor": 2
}
