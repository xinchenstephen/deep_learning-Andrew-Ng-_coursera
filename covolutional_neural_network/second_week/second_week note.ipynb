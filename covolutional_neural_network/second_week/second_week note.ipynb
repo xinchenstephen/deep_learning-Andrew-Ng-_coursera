{
 "cells": [
  {
   "cell_type": "markdown",
   "metadata": {},
   "source": [
    "### why does resnet network work?\n",
    "<img src = \"resnet_network.PNG\" width = \"40%\">\n",
    "Very deep \"plain\" networks don't work in practice because they are hard to train due to vanishing gradients.    \n",
    "The skip-connections help to address the Vanishing Gradient problem. They also make it easy for a ResNet block to learn an identity  function.    \n",
    "There are two main types of blocks: The identity block and the convolutional block.  \n",
    "Very deep Residual Networks are built by stacking these blocks together.  \n",
    "\n",
    "### one by one convolution\n",
    "\n",
    "change the channel 32*32*64 change to 32*32*16\n",
    "pooling layer can shrink the n_H and n_w\n",
    "### keras\n",
    "Key Points to remember\n",
    "Keras is a tool we recommend for rapid prototyping. It allows you to quickly try out different model architectures.\n",
    "Remember The four steps in Keras:\n",
    "Create\n",
    "Compile\n",
    "Fit/Train\n",
    "Evaluate/Test"
   ]
  }
 ],
 "metadata": {
  "kernelspec": {
   "display_name": "Python 3",
   "language": "python",
   "name": "python3"
  },
  "language_info": {
   "codemirror_mode": {
    "name": "ipython",
    "version": 3
   },
   "file_extension": ".py",
   "mimetype": "text/x-python",
   "name": "python",
   "nbconvert_exporter": "python",
   "pygments_lexer": "ipython3",
   "version": "3.7.3"
  }
 },
 "nbformat": 4,
 "nbformat_minor": 2
}
