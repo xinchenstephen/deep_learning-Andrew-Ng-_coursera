{
 "cells": [
  {
   "cell_type": "markdown",
   "metadata": {},
   "source": [
    "###siamese network\n",
    "\n",
    "to encode a picture\n",
    "\n",
    "<img src=\"siamese.PNG\" width = \"40%\">\n",
    "### triplet loss\n",
    "\n",
    "margin -- to let the positive fur away from negtive\n",
    "\n",
    "<img src = \"loss_function.PNG\" width = \"40%\">\n",
    "\n",
    "### another way to train the face verification\n",
    "\n",
    "<img src = \"bianary.PNG\" width = \"40%\">\n",
    "<img src = \"binary2.PNG\" width = \"40%\">\n"
   ]
  }
 ],
 "metadata": {
  "kernelspec": {
   "display_name": "Python 3",
   "language": "python",
   "name": "python3"
  },
  "language_info": {
   "codemirror_mode": {
    "name": "ipython",
    "version": 3
   },
   "file_extension": ".py",
   "mimetype": "text/x-python",
   "name": "python",
   "nbconvert_exporter": "python",
   "pygments_lexer": "ipython3",
   "version": "3.7.3"
  }
 },
 "nbformat": 4,
 "nbformat_minor": 2
}
