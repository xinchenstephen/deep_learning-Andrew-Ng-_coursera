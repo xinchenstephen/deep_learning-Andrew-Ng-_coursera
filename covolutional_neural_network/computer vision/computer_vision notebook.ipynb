{
 "cells": [
  {
   "cell_type": "markdown",
   "metadata": {},
   "source": [
    "### edge detection\n",
    "\n",
    "vertical edge detection and horizontal detection\n",
    "\n",
    "<img src = \"edge_detection.PNG\" width = \"40%\">\n",
    "\n"
   ]
  },
  {
   "cell_type": "markdown",
   "metadata": {},
   "source": [
    "### padding\n",
    "\n",
    "same padding:\n",
    "\n",
    "to let the output size the same as the input one\n",
    "f usually odd(1,3,5,7)  \n",
    "reason:  \n",
    "$p = \\frac{f-1}{2}$\n",
    "\n",
    "padding picture:  \n",
    "<img src = \"padding.PNG\" width=\"30%\">\n",
    "\n",
    "### stride\n",
    "\n",
    "skip the pixel\n",
    "$$ n = \\lfloor \\frac{n - f + 2 \\times pad}{stride} \\rfloor +1 $$\n",
    "\n",
    "### example in one layer\n",
    "<img src = \"picture.PNG\">\n",
    "<img src = \"dimension.PNG\">\n",
    "<img src = \"number_parameters.PNG\">\n",
    "\n",
    "### pooling:\n",
    "max pooling and average pooling\n",
    "no parameters to learn!\n",
    "f.s are the hyperparameters\n",
    "\n",
    "### complete example\n",
    "<img src = \"complete example.PNG\">\n",
    "\n",
    "### question\n",
    "<img src = \"question.PNG\">"
   ]
  },
  {
   "cell_type": "code",
   "execution_count": 2,
   "metadata": {},
   "outputs": [
    {
     "data": {
      "text/plain": [
       "1"
      ]
     },
     "execution_count": 2,
     "metadata": {},
     "output_type": "execute_result"
    }
   ],
   "source": [
    "9%4"
   ]
  },
  {
   "cell_type": "markdown",
   "metadata": {},
   "source": [
    "want to explore:\n",
    "\n",
    "how to know what is the filter detecting!"
   ]
  }
 ],
 "metadata": {
  "kernelspec": {
   "display_name": "Python 3",
   "language": "python",
   "name": "python3"
  },
  "language_info": {
   "codemirror_mode": {
    "name": "ipython",
    "version": 3
   },
   "file_extension": ".py",
   "mimetype": "text/x-python",
   "name": "python",
   "nbconvert_exporter": "python",
   "pygments_lexer": "ipython3",
   "version": "3.7.3"
  }
 },
 "nbformat": 4,
 "nbformat_minor": 2
}
