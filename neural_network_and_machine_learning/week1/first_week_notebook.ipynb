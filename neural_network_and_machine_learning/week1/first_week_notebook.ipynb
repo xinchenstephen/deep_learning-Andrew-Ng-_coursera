{
 "cells": [
  {
   "cell_type": "markdown",
   "metadata": {},
   "source": [
    "### course in this sequence:  \n",
    "1.neural networks and deep learning  \n",
    "2.improving : hyperparameter, tuning , regularization and optimazation  \n",
    "3.stucturing your machine learning project  \n",
    "4.convolutional neural networks  \n",
    "4.language processin "
   ]
  },
  {
   "cell_type": "markdown",
   "metadata": {},
   "source": [
    "### 1.what is a neural network? \n",
    "example: the house price prediction  "
   ]
  },
  {
   "cell_type": "code",
   "execution_count": 11,
   "metadata": {},
   "outputs": [
    {
     "data": {
      "text/html": [
       "<img src=\"picture1\"width=\"60%\">\n"
      ],
      "text/plain": [
       "<IPython.core.display.HTML object>"
      ]
     },
     "metadata": {},
     "output_type": "display_data"
    }
   ],
   "source": [
    "%%html\n",
    "<img src=\"picture1\"width=\"60%\">"
   ]
  },
  {
   "cell_type": "markdown",
   "metadata": {},
   "source": [
    "### 2.application  \n",
    "\n",
    "|Input(x)|Output(y)|Application|\n",
    "|:--|:---|:--|\n",
    "|Home features|Price|Real estate(standrad)|\n",
    "|Ad,user info|Click on ad?|Online Advertising(standard)|\n",
    "|Image|Object(1,2,3,,,)|photo tagging(CNN)|\n",
    "|English|Chinese|speech recognition(Knn)|\n",
    "|radar|position |self_driving(hybrid)|"
   ]
  },
  {
   "cell_type": "markdown",
   "metadata": {},
   "source": [
    "### 3.why is the deep learning taking off?  \n",
    "scale,computation algorithms"
   ]
  },
  {
   "cell_type": "code",
   "execution_count": 8,
   "metadata": {},
   "outputs": [
    {
     "data": {
      "text/html": [
       "<img src=\"scale.PNG\" width=40%>\n"
      ],
      "text/plain": [
       "<IPython.core.display.HTML object>"
      ]
     },
     "metadata": {},
     "output_type": "display_data"
    }
   ],
   "source": [
    "%%html\n",
    "<img src=\"scale.PNG\" width=40%>"
   ]
  },
  {
   "cell_type": "markdown",
   "metadata": {},
   "source": [
    "### 4.learning resource\n",
    "discussion forum"
   ]
  },
  {
   "cell_type": "markdown",
   "metadata": {},
   "source": [
    "### 5.structure data and unstructure data"
   ]
  },
  {
   "cell_type": "markdown",
   "metadata": {},
   "source": [
    "</p align=center> textdwdwdwdwadawd </p>"
   ]
  },
  {
   "cell_type": "markdown",
   "metadata": {},
   "source": [
    "代码markdown\n",
    "```python\n",
    "s = \"Python syntax highlighting\"\n",
    "print s\n",
    "```"
   ]
  }
 ],
 "metadata": {
  "kernelspec": {
   "display_name": "Python 3",
   "language": "python",
   "name": "python3"
  },
  "language_info": {
   "codemirror_mode": {
    "name": "ipython",
    "version": 3
   },
   "file_extension": ".py",
   "mimetype": "text/x-python",
   "name": "python",
   "nbconvert_exporter": "python",
   "pygments_lexer": "ipython3",
   "version": "3.7.3"
  }
 },
 "nbformat": 4,
 "nbformat_minor": 2
}
