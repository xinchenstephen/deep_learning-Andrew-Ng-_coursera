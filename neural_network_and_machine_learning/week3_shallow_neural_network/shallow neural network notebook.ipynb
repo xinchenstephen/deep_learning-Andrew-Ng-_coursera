{
 "cells": [
  {
   "cell_type": "markdown",
   "metadata": {},
   "source": [
    "### 1.representation of the hidden layyer\n",
    "this capter mainly talk about how to insert the node to hidden layer, which means increse the dimension of w and b\n",
    "<img src=\"representation.PNG\" width =70%>"
   ]
  },
  {
   "cell_type": "markdown",
   "metadata": {},
   "source": [
    "### 2.about the Wt\n",
    "<img src = \"WT.PNG\" width = \"40%\">\n",
    "W = w[T]\n"
   ]
  },
  {
   "cell_type": "markdown",
   "metadata": {},
   "source": [
    "### 3. activation function\n",
    "the reason to use activation fuction : to let the y and x be non-linear\n",
    "sigmoid ：$\\frac{1}{1+e^(-x)}$  \n",
    "tanh:$\\frac{e^z-e^(-z)}{e^z+e^(-z)}$  \n",
    "relu:$max(0,z)$  \n",
    "leakrelu:$max(0.01z,z)$  \n",
    "<img src = \"activation function.PNG\" width = \"50%\">"
   ]
  },
  {
   "cell_type": "markdown",
   "metadata": {},
   "source": [
    "#### 4. formula for the multiply layer\n",
    "<img src = \"formula for multiply layer.PNG\" width = \"80%\">"
   ]
  },
  {
   "cell_type": "markdown",
   "metadata": {},
   "source": [
    "#### 5.random initialization\n",
    "if it is not a logistic regression, we must use different numbers of initial w ,or it will let the node of the same layer the same  \n",
    "w need to be small initially because the slope of the activation fucntion is nearly 1 ,then the learning rate will be very slow."
   ]
  },
  {
   "cell_type": "markdown",
   "metadata": {},
   "source": [
    "### 6. several things to note\n",
    "1.logistic regression has no hidden layer!\n",
    "2.<img src=\"question.PNG\" width = \"70%\">"
   ]
  }
 ],
 "metadata": {
  "kernelspec": {
   "display_name": "Python 3",
   "language": "python",
   "name": "python3"
  },
  "language_info": {
   "codemirror_mode": {
    "name": "ipython",
    "version": 3
   },
   "file_extension": ".py",
   "mimetype": "text/x-python",
   "name": "python",
   "nbconvert_exporter": "python",
   "pygments_lexer": "ipython3",
   "version": "3.7.3"
  }
 },
 "nbformat": 4,
 "nbformat_minor": 2
}
